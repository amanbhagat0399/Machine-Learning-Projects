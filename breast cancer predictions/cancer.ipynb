{
 "cells": [
  {
   "cell_type": "markdown",
   "metadata": {},
   "source": [
    "<h1><center><b>Breast Cancer Project</b></center></h1>\n",
    "<div><center><img src=\"https://encrypted-tbn0.gstatic.com/images?q=tbn%3AANd9GcR5-oYqtTFUv6OFrgiNtAZ1JfsI1miWM7aRYkJZ5PFC2IsgaS71\"></center></div>\n",
    "<div>Breast cancer is a type of cancer that starts in the breast. Cancer starts when cells begin to grow out of control.Breast cancer cells usually form a tumor that can often be seen on an x-ray or felt as a lump. Breast cancer occurs almost entirely in women, but men can get breast cancer, too.It’s important to understand that most breast lumps are benign and not cancer (malignant). </div>\n",
    "<div>So, Today we are going to do an experiment with a dataset and perdict that the person is suffering from malignant or benign with some algorithmns </div>"
   ]
  },
  {
   "cell_type": "code",
   "execution_count": 1,
   "metadata": {},
   "outputs": [],
   "source": [
    "import numpy as np\n",
    "import pandas as pd\n",
    "import matplotlib.pyplot as plt\n",
    "import seaborn as sns\n",
    "from sklearn.preprocessing import LabelEncoder"
   ]
  },
  {
   "cell_type": "code",
   "execution_count": 2,
   "metadata": {},
   "outputs": [],
   "source": [
    "cancer =pd.read_csv(\"/home/rohit_psspl/Desktop/machine learning projects/Untitled Folder/data.csv\")"
   ]
  },
  {
   "cell_type": "code",
   "execution_count": 3,
   "metadata": {},
   "outputs": [],
   "source": [
    "pd.set_option('display.max_columns', 500)"
   ]
  },
  {
   "cell_type": "code",
   "execution_count": 4,
   "metadata": {},
   "outputs": [
    {
     "data": {
      "text/html": [
       "<div>\n",
       "<style scoped>\n",
       "    .dataframe tbody tr th:only-of-type {\n",
       "        vertical-align: middle;\n",
       "    }\n",
       "\n",
       "    .dataframe tbody tr th {\n",
       "        vertical-align: top;\n",
       "    }\n",
       "\n",
       "    .dataframe thead th {\n",
       "        text-align: right;\n",
       "    }\n",
       "</style>\n",
       "<table border=\"1\" class=\"dataframe\">\n",
       "  <thead>\n",
       "    <tr style=\"text-align: right;\">\n",
       "      <th></th>\n",
       "      <th>id</th>\n",
       "      <th>diagnosis</th>\n",
       "      <th>radius_mean</th>\n",
       "      <th>texture_mean</th>\n",
       "      <th>perimeter_mean</th>\n",
       "      <th>area_mean</th>\n",
       "      <th>smoothness_mean</th>\n",
       "      <th>compactness_mean</th>\n",
       "      <th>concavity_mean</th>\n",
       "      <th>concave points_mean</th>\n",
       "      <th>symmetry_mean</th>\n",
       "      <th>fractal_dimension_mean</th>\n",
       "      <th>radius_se</th>\n",
       "      <th>texture_se</th>\n",
       "      <th>perimeter_se</th>\n",
       "      <th>area_se</th>\n",
       "      <th>smoothness_se</th>\n",
       "      <th>compactness_se</th>\n",
       "      <th>concavity_se</th>\n",
       "      <th>concave points_se</th>\n",
       "      <th>symmetry_se</th>\n",
       "      <th>fractal_dimension_se</th>\n",
       "      <th>radius_worst</th>\n",
       "      <th>texture_worst</th>\n",
       "      <th>perimeter_worst</th>\n",
       "      <th>area_worst</th>\n",
       "      <th>smoothness_worst</th>\n",
       "      <th>compactness_worst</th>\n",
       "      <th>concavity_worst</th>\n",
       "      <th>concave points_worst</th>\n",
       "      <th>symmetry_worst</th>\n",
       "      <th>fractal_dimension_worst</th>\n",
       "      <th>Unnamed: 32</th>\n",
       "    </tr>\n",
       "  </thead>\n",
       "  <tbody>\n",
       "    <tr>\n",
       "      <th>0</th>\n",
       "      <td>842302</td>\n",
       "      <td>M</td>\n",
       "      <td>17.99</td>\n",
       "      <td>10.38</td>\n",
       "      <td>122.80</td>\n",
       "      <td>1001.0</td>\n",
       "      <td>0.11840</td>\n",
       "      <td>0.27760</td>\n",
       "      <td>0.30010</td>\n",
       "      <td>0.14710</td>\n",
       "      <td>0.2419</td>\n",
       "      <td>0.07871</td>\n",
       "      <td>1.0950</td>\n",
       "      <td>0.9053</td>\n",
       "      <td>8.589</td>\n",
       "      <td>153.40</td>\n",
       "      <td>0.006399</td>\n",
       "      <td>0.04904</td>\n",
       "      <td>0.05373</td>\n",
       "      <td>0.01587</td>\n",
       "      <td>0.03003</td>\n",
       "      <td>0.006193</td>\n",
       "      <td>25.380</td>\n",
       "      <td>17.33</td>\n",
       "      <td>184.60</td>\n",
       "      <td>2019.0</td>\n",
       "      <td>0.16220</td>\n",
       "      <td>0.66560</td>\n",
       "      <td>0.7119</td>\n",
       "      <td>0.2654</td>\n",
       "      <td>0.4601</td>\n",
       "      <td>0.11890</td>\n",
       "      <td>NaN</td>\n",
       "    </tr>\n",
       "    <tr>\n",
       "      <th>1</th>\n",
       "      <td>842517</td>\n",
       "      <td>M</td>\n",
       "      <td>20.57</td>\n",
       "      <td>17.77</td>\n",
       "      <td>132.90</td>\n",
       "      <td>1326.0</td>\n",
       "      <td>0.08474</td>\n",
       "      <td>0.07864</td>\n",
       "      <td>0.08690</td>\n",
       "      <td>0.07017</td>\n",
       "      <td>0.1812</td>\n",
       "      <td>0.05667</td>\n",
       "      <td>0.5435</td>\n",
       "      <td>0.7339</td>\n",
       "      <td>3.398</td>\n",
       "      <td>74.08</td>\n",
       "      <td>0.005225</td>\n",
       "      <td>0.01308</td>\n",
       "      <td>0.01860</td>\n",
       "      <td>0.01340</td>\n",
       "      <td>0.01389</td>\n",
       "      <td>0.003532</td>\n",
       "      <td>24.990</td>\n",
       "      <td>23.41</td>\n",
       "      <td>158.80</td>\n",
       "      <td>1956.0</td>\n",
       "      <td>0.12380</td>\n",
       "      <td>0.18660</td>\n",
       "      <td>0.2416</td>\n",
       "      <td>0.1860</td>\n",
       "      <td>0.2750</td>\n",
       "      <td>0.08902</td>\n",
       "      <td>NaN</td>\n",
       "    </tr>\n",
       "    <tr>\n",
       "      <th>2</th>\n",
       "      <td>84300903</td>\n",
       "      <td>M</td>\n",
       "      <td>19.69</td>\n",
       "      <td>21.25</td>\n",
       "      <td>130.00</td>\n",
       "      <td>1203.0</td>\n",
       "      <td>0.10960</td>\n",
       "      <td>0.15990</td>\n",
       "      <td>0.19740</td>\n",
       "      <td>0.12790</td>\n",
       "      <td>0.2069</td>\n",
       "      <td>0.05999</td>\n",
       "      <td>0.7456</td>\n",
       "      <td>0.7869</td>\n",
       "      <td>4.585</td>\n",
       "      <td>94.03</td>\n",
       "      <td>0.006150</td>\n",
       "      <td>0.04006</td>\n",
       "      <td>0.03832</td>\n",
       "      <td>0.02058</td>\n",
       "      <td>0.02250</td>\n",
       "      <td>0.004571</td>\n",
       "      <td>23.570</td>\n",
       "      <td>25.53</td>\n",
       "      <td>152.50</td>\n",
       "      <td>1709.0</td>\n",
       "      <td>0.14440</td>\n",
       "      <td>0.42450</td>\n",
       "      <td>0.4504</td>\n",
       "      <td>0.2430</td>\n",
       "      <td>0.3613</td>\n",
       "      <td>0.08758</td>\n",
       "      <td>NaN</td>\n",
       "    </tr>\n",
       "    <tr>\n",
       "      <th>3</th>\n",
       "      <td>84348301</td>\n",
       "      <td>M</td>\n",
       "      <td>11.42</td>\n",
       "      <td>20.38</td>\n",
       "      <td>77.58</td>\n",
       "      <td>386.1</td>\n",
       "      <td>0.14250</td>\n",
       "      <td>0.28390</td>\n",
       "      <td>0.24140</td>\n",
       "      <td>0.10520</td>\n",
       "      <td>0.2597</td>\n",
       "      <td>0.09744</td>\n",
       "      <td>0.4956</td>\n",
       "      <td>1.1560</td>\n",
       "      <td>3.445</td>\n",
       "      <td>27.23</td>\n",
       "      <td>0.009110</td>\n",
       "      <td>0.07458</td>\n",
       "      <td>0.05661</td>\n",
       "      <td>0.01867</td>\n",
       "      <td>0.05963</td>\n",
       "      <td>0.009208</td>\n",
       "      <td>14.910</td>\n",
       "      <td>26.50</td>\n",
       "      <td>98.87</td>\n",
       "      <td>567.7</td>\n",
       "      <td>0.20980</td>\n",
       "      <td>0.86630</td>\n",
       "      <td>0.6869</td>\n",
       "      <td>0.2575</td>\n",
       "      <td>0.6638</td>\n",
       "      <td>0.17300</td>\n",
       "      <td>NaN</td>\n",
       "    </tr>\n",
       "    <tr>\n",
       "      <th>4</th>\n",
       "      <td>84358402</td>\n",
       "      <td>M</td>\n",
       "      <td>20.29</td>\n",
       "      <td>14.34</td>\n",
       "      <td>135.10</td>\n",
       "      <td>1297.0</td>\n",
       "      <td>0.10030</td>\n",
       "      <td>0.13280</td>\n",
       "      <td>0.19800</td>\n",
       "      <td>0.10430</td>\n",
       "      <td>0.1809</td>\n",
       "      <td>0.05883</td>\n",
       "      <td>0.7572</td>\n",
       "      <td>0.7813</td>\n",
       "      <td>5.438</td>\n",
       "      <td>94.44</td>\n",
       "      <td>0.011490</td>\n",
       "      <td>0.02461</td>\n",
       "      <td>0.05688</td>\n",
       "      <td>0.01885</td>\n",
       "      <td>0.01756</td>\n",
       "      <td>0.005115</td>\n",
       "      <td>22.540</td>\n",
       "      <td>16.67</td>\n",
       "      <td>152.20</td>\n",
       "      <td>1575.0</td>\n",
       "      <td>0.13740</td>\n",
       "      <td>0.20500</td>\n",
       "      <td>0.4000</td>\n",
       "      <td>0.1625</td>\n",
       "      <td>0.2364</td>\n",
       "      <td>0.07678</td>\n",
       "      <td>NaN</td>\n",
       "    </tr>\n",
       "    <tr>\n",
       "      <th>...</th>\n",
       "      <td>...</td>\n",
       "      <td>...</td>\n",
       "      <td>...</td>\n",
       "      <td>...</td>\n",
       "      <td>...</td>\n",
       "      <td>...</td>\n",
       "      <td>...</td>\n",
       "      <td>...</td>\n",
       "      <td>...</td>\n",
       "      <td>...</td>\n",
       "      <td>...</td>\n",
       "      <td>...</td>\n",
       "      <td>...</td>\n",
       "      <td>...</td>\n",
       "      <td>...</td>\n",
       "      <td>...</td>\n",
       "      <td>...</td>\n",
       "      <td>...</td>\n",
       "      <td>...</td>\n",
       "      <td>...</td>\n",
       "      <td>...</td>\n",
       "      <td>...</td>\n",
       "      <td>...</td>\n",
       "      <td>...</td>\n",
       "      <td>...</td>\n",
       "      <td>...</td>\n",
       "      <td>...</td>\n",
       "      <td>...</td>\n",
       "      <td>...</td>\n",
       "      <td>...</td>\n",
       "      <td>...</td>\n",
       "      <td>...</td>\n",
       "      <td>...</td>\n",
       "    </tr>\n",
       "    <tr>\n",
       "      <th>564</th>\n",
       "      <td>926424</td>\n",
       "      <td>M</td>\n",
       "      <td>21.56</td>\n",
       "      <td>22.39</td>\n",
       "      <td>142.00</td>\n",
       "      <td>1479.0</td>\n",
       "      <td>0.11100</td>\n",
       "      <td>0.11590</td>\n",
       "      <td>0.24390</td>\n",
       "      <td>0.13890</td>\n",
       "      <td>0.1726</td>\n",
       "      <td>0.05623</td>\n",
       "      <td>1.1760</td>\n",
       "      <td>1.2560</td>\n",
       "      <td>7.673</td>\n",
       "      <td>158.70</td>\n",
       "      <td>0.010300</td>\n",
       "      <td>0.02891</td>\n",
       "      <td>0.05198</td>\n",
       "      <td>0.02454</td>\n",
       "      <td>0.01114</td>\n",
       "      <td>0.004239</td>\n",
       "      <td>25.450</td>\n",
       "      <td>26.40</td>\n",
       "      <td>166.10</td>\n",
       "      <td>2027.0</td>\n",
       "      <td>0.14100</td>\n",
       "      <td>0.21130</td>\n",
       "      <td>0.4107</td>\n",
       "      <td>0.2216</td>\n",
       "      <td>0.2060</td>\n",
       "      <td>0.07115</td>\n",
       "      <td>NaN</td>\n",
       "    </tr>\n",
       "    <tr>\n",
       "      <th>565</th>\n",
       "      <td>926682</td>\n",
       "      <td>M</td>\n",
       "      <td>20.13</td>\n",
       "      <td>28.25</td>\n",
       "      <td>131.20</td>\n",
       "      <td>1261.0</td>\n",
       "      <td>0.09780</td>\n",
       "      <td>0.10340</td>\n",
       "      <td>0.14400</td>\n",
       "      <td>0.09791</td>\n",
       "      <td>0.1752</td>\n",
       "      <td>0.05533</td>\n",
       "      <td>0.7655</td>\n",
       "      <td>2.4630</td>\n",
       "      <td>5.203</td>\n",
       "      <td>99.04</td>\n",
       "      <td>0.005769</td>\n",
       "      <td>0.02423</td>\n",
       "      <td>0.03950</td>\n",
       "      <td>0.01678</td>\n",
       "      <td>0.01898</td>\n",
       "      <td>0.002498</td>\n",
       "      <td>23.690</td>\n",
       "      <td>38.25</td>\n",
       "      <td>155.00</td>\n",
       "      <td>1731.0</td>\n",
       "      <td>0.11660</td>\n",
       "      <td>0.19220</td>\n",
       "      <td>0.3215</td>\n",
       "      <td>0.1628</td>\n",
       "      <td>0.2572</td>\n",
       "      <td>0.06637</td>\n",
       "      <td>NaN</td>\n",
       "    </tr>\n",
       "    <tr>\n",
       "      <th>566</th>\n",
       "      <td>926954</td>\n",
       "      <td>M</td>\n",
       "      <td>16.60</td>\n",
       "      <td>28.08</td>\n",
       "      <td>108.30</td>\n",
       "      <td>858.1</td>\n",
       "      <td>0.08455</td>\n",
       "      <td>0.10230</td>\n",
       "      <td>0.09251</td>\n",
       "      <td>0.05302</td>\n",
       "      <td>0.1590</td>\n",
       "      <td>0.05648</td>\n",
       "      <td>0.4564</td>\n",
       "      <td>1.0750</td>\n",
       "      <td>3.425</td>\n",
       "      <td>48.55</td>\n",
       "      <td>0.005903</td>\n",
       "      <td>0.03731</td>\n",
       "      <td>0.04730</td>\n",
       "      <td>0.01557</td>\n",
       "      <td>0.01318</td>\n",
       "      <td>0.003892</td>\n",
       "      <td>18.980</td>\n",
       "      <td>34.12</td>\n",
       "      <td>126.70</td>\n",
       "      <td>1124.0</td>\n",
       "      <td>0.11390</td>\n",
       "      <td>0.30940</td>\n",
       "      <td>0.3403</td>\n",
       "      <td>0.1418</td>\n",
       "      <td>0.2218</td>\n",
       "      <td>0.07820</td>\n",
       "      <td>NaN</td>\n",
       "    </tr>\n",
       "    <tr>\n",
       "      <th>567</th>\n",
       "      <td>927241</td>\n",
       "      <td>M</td>\n",
       "      <td>20.60</td>\n",
       "      <td>29.33</td>\n",
       "      <td>140.10</td>\n",
       "      <td>1265.0</td>\n",
       "      <td>0.11780</td>\n",
       "      <td>0.27700</td>\n",
       "      <td>0.35140</td>\n",
       "      <td>0.15200</td>\n",
       "      <td>0.2397</td>\n",
       "      <td>0.07016</td>\n",
       "      <td>0.7260</td>\n",
       "      <td>1.5950</td>\n",
       "      <td>5.772</td>\n",
       "      <td>86.22</td>\n",
       "      <td>0.006522</td>\n",
       "      <td>0.06158</td>\n",
       "      <td>0.07117</td>\n",
       "      <td>0.01664</td>\n",
       "      <td>0.02324</td>\n",
       "      <td>0.006185</td>\n",
       "      <td>25.740</td>\n",
       "      <td>39.42</td>\n",
       "      <td>184.60</td>\n",
       "      <td>1821.0</td>\n",
       "      <td>0.16500</td>\n",
       "      <td>0.86810</td>\n",
       "      <td>0.9387</td>\n",
       "      <td>0.2650</td>\n",
       "      <td>0.4087</td>\n",
       "      <td>0.12400</td>\n",
       "      <td>NaN</td>\n",
       "    </tr>\n",
       "    <tr>\n",
       "      <th>568</th>\n",
       "      <td>92751</td>\n",
       "      <td>B</td>\n",
       "      <td>7.76</td>\n",
       "      <td>24.54</td>\n",
       "      <td>47.92</td>\n",
       "      <td>181.0</td>\n",
       "      <td>0.05263</td>\n",
       "      <td>0.04362</td>\n",
       "      <td>0.00000</td>\n",
       "      <td>0.00000</td>\n",
       "      <td>0.1587</td>\n",
       "      <td>0.05884</td>\n",
       "      <td>0.3857</td>\n",
       "      <td>1.4280</td>\n",
       "      <td>2.548</td>\n",
       "      <td>19.15</td>\n",
       "      <td>0.007189</td>\n",
       "      <td>0.00466</td>\n",
       "      <td>0.00000</td>\n",
       "      <td>0.00000</td>\n",
       "      <td>0.02676</td>\n",
       "      <td>0.002783</td>\n",
       "      <td>9.456</td>\n",
       "      <td>30.37</td>\n",
       "      <td>59.16</td>\n",
       "      <td>268.6</td>\n",
       "      <td>0.08996</td>\n",
       "      <td>0.06444</td>\n",
       "      <td>0.0000</td>\n",
       "      <td>0.0000</td>\n",
       "      <td>0.2871</td>\n",
       "      <td>0.07039</td>\n",
       "      <td>NaN</td>\n",
       "    </tr>\n",
       "  </tbody>\n",
       "</table>\n",
       "<p>569 rows × 33 columns</p>\n",
       "</div>"
      ],
      "text/plain": [
       "           id diagnosis  radius_mean  texture_mean  perimeter_mean  area_mean  \\\n",
       "0      842302         M        17.99         10.38          122.80     1001.0   \n",
       "1      842517         M        20.57         17.77          132.90     1326.0   \n",
       "2    84300903         M        19.69         21.25          130.00     1203.0   \n",
       "3    84348301         M        11.42         20.38           77.58      386.1   \n",
       "4    84358402         M        20.29         14.34          135.10     1297.0   \n",
       "..        ...       ...          ...           ...             ...        ...   \n",
       "564    926424         M        21.56         22.39          142.00     1479.0   \n",
       "565    926682         M        20.13         28.25          131.20     1261.0   \n",
       "566    926954         M        16.60         28.08          108.30      858.1   \n",
       "567    927241         M        20.60         29.33          140.10     1265.0   \n",
       "568     92751         B         7.76         24.54           47.92      181.0   \n",
       "\n",
       "     smoothness_mean  compactness_mean  concavity_mean  concave points_mean  \\\n",
       "0            0.11840           0.27760         0.30010              0.14710   \n",
       "1            0.08474           0.07864         0.08690              0.07017   \n",
       "2            0.10960           0.15990         0.19740              0.12790   \n",
       "3            0.14250           0.28390         0.24140              0.10520   \n",
       "4            0.10030           0.13280         0.19800              0.10430   \n",
       "..               ...               ...             ...                  ...   \n",
       "564          0.11100           0.11590         0.24390              0.13890   \n",
       "565          0.09780           0.10340         0.14400              0.09791   \n",
       "566          0.08455           0.10230         0.09251              0.05302   \n",
       "567          0.11780           0.27700         0.35140              0.15200   \n",
       "568          0.05263           0.04362         0.00000              0.00000   \n",
       "\n",
       "     symmetry_mean  fractal_dimension_mean  radius_se  texture_se  \\\n",
       "0           0.2419                 0.07871     1.0950      0.9053   \n",
       "1           0.1812                 0.05667     0.5435      0.7339   \n",
       "2           0.2069                 0.05999     0.7456      0.7869   \n",
       "3           0.2597                 0.09744     0.4956      1.1560   \n",
       "4           0.1809                 0.05883     0.7572      0.7813   \n",
       "..             ...                     ...        ...         ...   \n",
       "564         0.1726                 0.05623     1.1760      1.2560   \n",
       "565         0.1752                 0.05533     0.7655      2.4630   \n",
       "566         0.1590                 0.05648     0.4564      1.0750   \n",
       "567         0.2397                 0.07016     0.7260      1.5950   \n",
       "568         0.1587                 0.05884     0.3857      1.4280   \n",
       "\n",
       "     perimeter_se  area_se  smoothness_se  compactness_se  concavity_se  \\\n",
       "0           8.589   153.40       0.006399         0.04904       0.05373   \n",
       "1           3.398    74.08       0.005225         0.01308       0.01860   \n",
       "2           4.585    94.03       0.006150         0.04006       0.03832   \n",
       "3           3.445    27.23       0.009110         0.07458       0.05661   \n",
       "4           5.438    94.44       0.011490         0.02461       0.05688   \n",
       "..            ...      ...            ...             ...           ...   \n",
       "564         7.673   158.70       0.010300         0.02891       0.05198   \n",
       "565         5.203    99.04       0.005769         0.02423       0.03950   \n",
       "566         3.425    48.55       0.005903         0.03731       0.04730   \n",
       "567         5.772    86.22       0.006522         0.06158       0.07117   \n",
       "568         2.548    19.15       0.007189         0.00466       0.00000   \n",
       "\n",
       "     concave points_se  symmetry_se  fractal_dimension_se  radius_worst  \\\n",
       "0              0.01587      0.03003              0.006193        25.380   \n",
       "1              0.01340      0.01389              0.003532        24.990   \n",
       "2              0.02058      0.02250              0.004571        23.570   \n",
       "3              0.01867      0.05963              0.009208        14.910   \n",
       "4              0.01885      0.01756              0.005115        22.540   \n",
       "..                 ...          ...                   ...           ...   \n",
       "564            0.02454      0.01114              0.004239        25.450   \n",
       "565            0.01678      0.01898              0.002498        23.690   \n",
       "566            0.01557      0.01318              0.003892        18.980   \n",
       "567            0.01664      0.02324              0.006185        25.740   \n",
       "568            0.00000      0.02676              0.002783         9.456   \n",
       "\n",
       "     texture_worst  perimeter_worst  area_worst  smoothness_worst  \\\n",
       "0            17.33           184.60      2019.0           0.16220   \n",
       "1            23.41           158.80      1956.0           0.12380   \n",
       "2            25.53           152.50      1709.0           0.14440   \n",
       "3            26.50            98.87       567.7           0.20980   \n",
       "4            16.67           152.20      1575.0           0.13740   \n",
       "..             ...              ...         ...               ...   \n",
       "564          26.40           166.10      2027.0           0.14100   \n",
       "565          38.25           155.00      1731.0           0.11660   \n",
       "566          34.12           126.70      1124.0           0.11390   \n",
       "567          39.42           184.60      1821.0           0.16500   \n",
       "568          30.37            59.16       268.6           0.08996   \n",
       "\n",
       "     compactness_worst  concavity_worst  concave points_worst  symmetry_worst  \\\n",
       "0              0.66560           0.7119                0.2654          0.4601   \n",
       "1              0.18660           0.2416                0.1860          0.2750   \n",
       "2              0.42450           0.4504                0.2430          0.3613   \n",
       "3              0.86630           0.6869                0.2575          0.6638   \n",
       "4              0.20500           0.4000                0.1625          0.2364   \n",
       "..                 ...              ...                   ...             ...   \n",
       "564            0.21130           0.4107                0.2216          0.2060   \n",
       "565            0.19220           0.3215                0.1628          0.2572   \n",
       "566            0.30940           0.3403                0.1418          0.2218   \n",
       "567            0.86810           0.9387                0.2650          0.4087   \n",
       "568            0.06444           0.0000                0.0000          0.2871   \n",
       "\n",
       "     fractal_dimension_worst  Unnamed: 32  \n",
       "0                    0.11890          NaN  \n",
       "1                    0.08902          NaN  \n",
       "2                    0.08758          NaN  \n",
       "3                    0.17300          NaN  \n",
       "4                    0.07678          NaN  \n",
       "..                       ...          ...  \n",
       "564                  0.07115          NaN  \n",
       "565                  0.06637          NaN  \n",
       "566                  0.07820          NaN  \n",
       "567                  0.12400          NaN  \n",
       "568                  0.07039          NaN  \n",
       "\n",
       "[569 rows x 33 columns]"
      ]
     },
     "execution_count": 4,
     "metadata": {},
     "output_type": "execute_result"
    }
   ],
   "source": [
    "cancer"
   ]
  },
  {
   "cell_type": "code",
   "execution_count": 5,
   "metadata": {},
   "outputs": [
    {
     "data": {
      "text/plain": [
       "569"
      ]
     },
     "execution_count": 5,
     "metadata": {},
     "output_type": "execute_result"
    }
   ],
   "source": [
    "cancer.isnull().sum().sum()"
   ]
  },
  {
   "cell_type": "raw",
   "metadata": {},
   "source": [
    "# there is 569 null values in data so after dropping some columns we can see that the null values id '0'...."
   ]
  },
  {
   "cell_type": "code",
   "execution_count": 6,
   "metadata": {},
   "outputs": [],
   "source": [
    "cancer = cancer.drop(['Unnamed: 32','id'],axis=1)"
   ]
  },
  {
   "cell_type": "code",
   "execution_count": 7,
   "metadata": {},
   "outputs": [
    {
     "data": {
      "text/plain": [
       "0"
      ]
     },
     "execution_count": 7,
     "metadata": {},
     "output_type": "execute_result"
    }
   ],
   "source": [
    "cancer.isnull().sum().sum()"
   ]
  },
  {
   "cell_type": "raw",
   "metadata": {},
   "source": [
    "# Here we are performing label encoding for converting target data to '0'or'1' Format...."
   ]
  },
  {
   "cell_type": "code",
   "execution_count": 8,
   "metadata": {},
   "outputs": [],
   "source": [
    "Lb = LabelEncoder()"
   ]
  },
  {
   "cell_type": "code",
   "execution_count": 9,
   "metadata": {},
   "outputs": [],
   "source": [
    "cancer['diagnosis'] = Lb.fit_transform(cancer['diagnosis'])"
   ]
  },
  {
   "cell_type": "raw",
   "metadata": {},
   "source": [
    "# here we visualising the features correlation with target data..."
   ]
  },
  {
   "cell_type": "code",
   "execution_count": 10,
   "metadata": {},
   "outputs": [],
   "source": [
    "corr = cancer.corr()"
   ]
  },
  {
   "cell_type": "code",
   "execution_count": 11,
   "metadata": {},
   "outputs": [
    {
     "data": {
      "image/png": "[encoded data removed]",
      "text/plain": [
       "<Figure size 1224x72 with 2 Axes>"
      ]
     },
     "metadata": {
      "needs_background": "light"
     },
     "output_type": "display_data"
    }
   ],
   "source": [
    "f,ax=plt.subplots(figsize=(17,1))\n",
    "sns.heatmap(corr.sort_values(by=['diagnosis'],ascending=False).head(1), cmap='Blues')\n",
    "plt.title(\"features correlation with the Diagnosis\", weight='bold', fontsize=18)\n",
    "plt.xticks(weight='bold')\n",
    "plt.yticks(weight='bold', color='dodgerblue', rotation=0)\n",
    "plt.show()"
   ]
  },
  {
   "cell_type": "code",
   "execution_count": 12,
   "metadata": {},
   "outputs": [
    {
     "data": {
      "text/html": [
       "<style  type=\"text/css\" >\n",
       "    #T_5414f2e2_2bc3_11ea_84ea_d8d0902f10e9row0_col0 {\n",
       "            background-color:  #ff0000;\n",
       "            color:  #f1f1f1;\n",
       "        }    #T_5414f2e2_2bc3_11ea_84ea_d8d0902f10e9row1_col0 {\n",
       "            background-color:  #ff3a3a;\n",
       "            color:  #f1f1f1;\n",
       "        }    #T_5414f2e2_2bc3_11ea_84ea_d8d0902f10e9row2_col0 {\n",
       "            background-color:  #ff7e7e;\n",
       "            color:  #000000;\n",
       "        }    #T_5414f2e2_2bc3_11ea_84ea_d8d0902f10e9row3_col0 {\n",
       "            background-color:  #ff3737;\n",
       "            color:  #f1f1f1;\n",
       "        }    #T_5414f2e2_2bc3_11ea_84ea_d8d0902f10e9row4_col0 {\n",
       "            background-color:  #ff3e3e;\n",
       "            color:  #f1f1f1;\n",
       "        }    #T_5414f2e2_2bc3_11ea_84ea_d8d0902f10e9row5_col0 {\n",
       "            background-color:  #ff8a8a;\n",
       "            color:  #000000;\n",
       "        }    #T_5414f2e2_2bc3_11ea_84ea_d8d0902f10e9row6_col0 {\n",
       "            background-color:  #ff5656;\n",
       "            color:  #000000;\n",
       "        }    #T_5414f2e2_2bc3_11ea_84ea_d8d0902f10e9row7_col0 {\n",
       "            background-color:  #ff4141;\n",
       "            color:  #000000;\n",
       "        }    #T_5414f2e2_2bc3_11ea_84ea_d8d0902f10e9row8_col0 {\n",
       "            background-color:  #ff3030;\n",
       "            color:  #f1f1f1;\n",
       "        }    #T_5414f2e2_2bc3_11ea_84ea_d8d0902f10e9row9_col0 {\n",
       "            background-color:  #ff9090;\n",
       "            color:  #000000;\n",
       "        }    #T_5414f2e2_2bc3_11ea_84ea_d8d0902f10e9row10_col0 {\n",
       "            background-color:  #ffdbdb;\n",
       "            color:  #000000;\n",
       "        }    #T_5414f2e2_2bc3_11ea_84ea_d8d0902f10e9row11_col0 {\n",
       "            background-color:  #ff5d5d;\n",
       "            color:  #000000;\n",
       "        }    #T_5414f2e2_2bc3_11ea_84ea_d8d0902f10e9row12_col0 {\n",
       "            background-color:  #ffd9d9;\n",
       "            color:  #000000;\n",
       "        }    #T_5414f2e2_2bc3_11ea_84ea_d8d0902f10e9row13_col0 {\n",
       "            background-color:  #ff5f5f;\n",
       "            color:  #000000;\n",
       "        }    #T_5414f2e2_2bc3_11ea_84ea_d8d0902f10e9row14_col0 {\n",
       "            background-color:  #ff6161;\n",
       "            color:  #000000;\n",
       "        }    #T_5414f2e2_2bc3_11ea_84ea_d8d0902f10e9row15_col0 {\n",
       "            background-color:  #ffe5e5;\n",
       "            color:  #000000;\n",
       "        }    #T_5414f2e2_2bc3_11ea_84ea_d8d0902f10e9row16_col0 {\n",
       "            background-color:  #ff9898;\n",
       "            color:  #000000;\n",
       "        }    #T_5414f2e2_2bc3_11ea_84ea_d8d0902f10e9row17_col0 {\n",
       "            background-color:  #ffa1a1;\n",
       "            color:  #000000;\n",
       "        }    #T_5414f2e2_2bc3_11ea_84ea_d8d0902f10e9row18_col0 {\n",
       "            background-color:  #ff8080;\n",
       "            color:  #000000;\n",
       "        }    #T_5414f2e2_2bc3_11ea_84ea_d8d0902f10e9row19_col0 {\n",
       "            background-color:  #ffd9d9;\n",
       "            color:  #000000;\n",
       "        }    #T_5414f2e2_2bc3_11ea_84ea_d8d0902f10e9row20_col0 {\n",
       "            background-color:  #ffc7c7;\n",
       "            color:  #000000;\n",
       "        }    #T_5414f2e2_2bc3_11ea_84ea_d8d0902f10e9row21_col0 {\n",
       "            background-color:  #ff3030;\n",
       "            color:  #f1f1f1;\n",
       "        }    #T_5414f2e2_2bc3_11ea_84ea_d8d0902f10e9row22_col0 {\n",
       "            background-color:  #ff7575;\n",
       "            color:  #000000;\n",
       "        }    #T_5414f2e2_2bc3_11ea_84ea_d8d0902f10e9row23_col0 {\n",
       "            background-color:  #ff2f2f;\n",
       "            color:  #f1f1f1;\n",
       "        }    #T_5414f2e2_2bc3_11ea_84ea_d8d0902f10e9row24_col0 {\n",
       "            background-color:  #ff3939;\n",
       "            color:  #f1f1f1;\n",
       "        }    #T_5414f2e2_2bc3_11ea_84ea_d8d0902f10e9row25_col0 {\n",
       "            background-color:  #ff7c7c;\n",
       "            color:  #000000;\n",
       "        }    #T_5414f2e2_2bc3_11ea_84ea_d8d0902f10e9row26_col0 {\n",
       "            background-color:  #ff5858;\n",
       "            color:  #000000;\n",
       "        }    #T_5414f2e2_2bc3_11ea_84ea_d8d0902f10e9row27_col0 {\n",
       "            background-color:  #ff4949;\n",
       "            color:  #000000;\n",
       "        }    #T_5414f2e2_2bc3_11ea_84ea_d8d0902f10e9row28_col0 {\n",
       "            background-color:  #ff2c2c;\n",
       "            color:  #f1f1f1;\n",
       "        }    #T_5414f2e2_2bc3_11ea_84ea_d8d0902f10e9row29_col0 {\n",
       "            background-color:  #ff7e7e;\n",
       "            color:  #000000;\n",
       "        }    #T_5414f2e2_2bc3_11ea_84ea_d8d0902f10e9row30_col0 {\n",
       "            background-color:  #ff9292;\n",
       "            color:  #000000;\n",
       "        }</style><table id=\"T_5414f2e2_2bc3_11ea_84ea_d8d0902f10e9\" ><thead>    <tr>        <th class=\"blank level0\" ></th>        <th class=\"col_heading level0 col0\" >diagnosis</th>    </tr></thead><tbody>\n",
       "                <tr>\n",
       "                        <th id=\"T_5414f2e2_2bc3_11ea_84ea_d8d0902f10e9level0_row0\" class=\"row_heading level0 row0\" >diagnosis</th>\n",
       "                        <td id=\"T_5414f2e2_2bc3_11ea_84ea_d8d0902f10e9row0_col0\" class=\"data row0 col0\" >1</td>\n",
       "            </tr>\n",
       "            <tr>\n",
       "                        <th id=\"T_5414f2e2_2bc3_11ea_84ea_d8d0902f10e9level0_row1\" class=\"row_heading level0 row1\" >radius_mean</th>\n",
       "                        <td id=\"T_5414f2e2_2bc3_11ea_84ea_d8d0902f10e9row1_col0\" class=\"data row1 col0\" >0.730029</td>\n",
       "            </tr>\n",
       "            <tr>\n",
       "                        <th id=\"T_5414f2e2_2bc3_11ea_84ea_d8d0902f10e9level0_row2\" class=\"row_heading level0 row2\" >texture_mean</th>\n",
       "                        <td id=\"T_5414f2e2_2bc3_11ea_84ea_d8d0902f10e9row2_col0\" class=\"data row2 col0\" >0.415185</td>\n",
       "            </tr>\n",
       "            <tr>\n",
       "                        <th id=\"T_5414f2e2_2bc3_11ea_84ea_d8d0902f10e9level0_row3\" class=\"row_heading level0 row3\" >perimeter_mean</th>\n",
       "                        <td id=\"T_5414f2e2_2bc3_11ea_84ea_d8d0902f10e9row3_col0\" class=\"data row3 col0\" >0.742636</td>\n",
       "            </tr>\n",
       "            <tr>\n",
       "                        <th id=\"T_5414f2e2_2bc3_11ea_84ea_d8d0902f10e9level0_row4\" class=\"row_heading level0 row4\" >area_mean</th>\n",
       "                        <td id=\"T_5414f2e2_2bc3_11ea_84ea_d8d0902f10e9row4_col0\" class=\"data row4 col0\" >0.708984</td>\n",
       "            </tr>\n",
       "            <tr>\n",
       "                        <th id=\"T_5414f2e2_2bc3_11ea_84ea_d8d0902f10e9level0_row5\" class=\"row_heading level0 row5\" >smoothness_mean</th>\n",
       "                        <td id=\"T_5414f2e2_2bc3_11ea_84ea_d8d0902f10e9row5_col0\" class=\"data row5 col0\" >0.35856</td>\n",
       "            </tr>\n",
       "            <tr>\n",
       "                        <th id=\"T_5414f2e2_2bc3_11ea_84ea_d8d0902f10e9level0_row6\" class=\"row_heading level0 row6\" >compactness_mean</th>\n",
       "                        <td id=\"T_5414f2e2_2bc3_11ea_84ea_d8d0902f10e9row6_col0\" class=\"data row6 col0\" >0.596534</td>\n",
       "            </tr>\n",
       "            <tr>\n",
       "                        <th id=\"T_5414f2e2_2bc3_11ea_84ea_d8d0902f10e9level0_row7\" class=\"row_heading level0 row7\" >concavity_mean</th>\n",
       "                        <td id=\"T_5414f2e2_2bc3_11ea_84ea_d8d0902f10e9row7_col0\" class=\"data row7 col0\" >0.69636</td>\n",
       "            </tr>\n",
       "            <tr>\n",
       "                        <th id=\"T_5414f2e2_2bc3_11ea_84ea_d8d0902f10e9level0_row8\" class=\"row_heading level0 row8\" >concave points_mean</th>\n",
       "                        <td id=\"T_5414f2e2_2bc3_11ea_84ea_d8d0902f10e9row8_col0\" class=\"data row8 col0\" >0.776614</td>\n",
       "            </tr>\n",
       "            <tr>\n",
       "                        <th id=\"T_5414f2e2_2bc3_11ea_84ea_d8d0902f10e9level0_row9\" class=\"row_heading level0 row9\" >symmetry_mean</th>\n",
       "                        <td id=\"T_5414f2e2_2bc3_11ea_84ea_d8d0902f10e9row9_col0\" class=\"data row9 col0\" >0.330499</td>\n",
       "            </tr>\n",
       "            <tr>\n",
       "                        <th id=\"T_5414f2e2_2bc3_11ea_84ea_d8d0902f10e9level0_row10\" class=\"row_heading level0 row10\" >fractal_dimension_mean</th>\n",
       "                        <td id=\"T_5414f2e2_2bc3_11ea_84ea_d8d0902f10e9row10_col0\" class=\"data row10 col0\" >-0.0128376</td>\n",
       "            </tr>\n",
       "            <tr>\n",
       "                        <th id=\"T_5414f2e2_2bc3_11ea_84ea_d8d0902f10e9level0_row11\" class=\"row_heading level0 row11\" >radius_se</th>\n",
       "                        <td id=\"T_5414f2e2_2bc3_11ea_84ea_d8d0902f10e9row11_col0\" class=\"data row11 col0\" >0.567134</td>\n",
       "            </tr>\n",
       "            <tr>\n",
       "                        <th id=\"T_5414f2e2_2bc3_11ea_84ea_d8d0902f10e9level0_row12\" class=\"row_heading level0 row12\" >texture_se</th>\n",
       "                        <td id=\"T_5414f2e2_2bc3_11ea_84ea_d8d0902f10e9row12_col0\" class=\"data row12 col0\" >-0.00830333</td>\n",
       "            </tr>\n",
       "            <tr>\n",
       "                        <th id=\"T_5414f2e2_2bc3_11ea_84ea_d8d0902f10e9level0_row13\" class=\"row_heading level0 row13\" >perimeter_se</th>\n",
       "                        <td id=\"T_5414f2e2_2bc3_11ea_84ea_d8d0902f10e9row13_col0\" class=\"data row13 col0\" >0.556141</td>\n",
       "            </tr>\n",
       "            <tr>\n",
       "                        <th id=\"T_5414f2e2_2bc3_11ea_84ea_d8d0902f10e9level0_row14\" class=\"row_heading level0 row14\" >area_se</th>\n",
       "                        <td id=\"T_5414f2e2_2bc3_11ea_84ea_d8d0902f10e9row14_col0\" class=\"data row14 col0\" >0.548236</td>\n",
       "            </tr>\n",
       "            <tr>\n",
       "                        <th id=\"T_5414f2e2_2bc3_11ea_84ea_d8d0902f10e9level0_row15\" class=\"row_heading level0 row15\" >smoothness_se</th>\n",
       "                        <td id=\"T_5414f2e2_2bc3_11ea_84ea_d8d0902f10e9row15_col0\" class=\"data row15 col0\" >-0.067016</td>\n",
       "            </tr>\n",
       "            <tr>\n",
       "                        <th id=\"T_5414f2e2_2bc3_11ea_84ea_d8d0902f10e9level0_row16\" class=\"row_heading level0 row16\" >compactness_se</th>\n",
       "                        <td id=\"T_5414f2e2_2bc3_11ea_84ea_d8d0902f10e9row16_col0\" class=\"data row16 col0\" >0.292999</td>\n",
       "            </tr>\n",
       "            <tr>\n",
       "                        <th id=\"T_5414f2e2_2bc3_11ea_84ea_d8d0902f10e9level0_row17\" class=\"row_heading level0 row17\" >concavity_se</th>\n",
       "                        <td id=\"T_5414f2e2_2bc3_11ea_84ea_d8d0902f10e9row17_col0\" class=\"data row17 col0\" >0.25373</td>\n",
       "            </tr>\n",
       "            <tr>\n",
       "                        <th id=\"T_5414f2e2_2bc3_11ea_84ea_d8d0902f10e9level0_row18\" class=\"row_heading level0 row18\" >concave points_se</th>\n",
       "                        <td id=\"T_5414f2e2_2bc3_11ea_84ea_d8d0902f10e9row18_col0\" class=\"data row18 col0\" >0.408042</td>\n",
       "            </tr>\n",
       "            <tr>\n",
       "                        <th id=\"T_5414f2e2_2bc3_11ea_84ea_d8d0902f10e9level0_row19\" class=\"row_heading level0 row19\" >symmetry_se</th>\n",
       "                        <td id=\"T_5414f2e2_2bc3_11ea_84ea_d8d0902f10e9row19_col0\" class=\"data row19 col0\" >-0.00652176</td>\n",
       "            </tr>\n",
       "            <tr>\n",
       "                        <th id=\"T_5414f2e2_2bc3_11ea_84ea_d8d0902f10e9level0_row20\" class=\"row_heading level0 row20\" >fractal_dimension_se</th>\n",
       "                        <td id=\"T_5414f2e2_2bc3_11ea_84ea_d8d0902f10e9row20_col0\" class=\"data row20 col0\" >0.0779724</td>\n",
       "            </tr>\n",
       "            <tr>\n",
       "                        <th id=\"T_5414f2e2_2bc3_11ea_84ea_d8d0902f10e9level0_row21\" class=\"row_heading level0 row21\" >radius_worst</th>\n",
       "                        <td id=\"T_5414f2e2_2bc3_11ea_84ea_d8d0902f10e9row21_col0\" class=\"data row21 col0\" >0.776454</td>\n",
       "            </tr>\n",
       "            <tr>\n",
       "                        <th id=\"T_5414f2e2_2bc3_11ea_84ea_d8d0902f10e9level0_row22\" class=\"row_heading level0 row22\" >texture_worst</th>\n",
       "                        <td id=\"T_5414f2e2_2bc3_11ea_84ea_d8d0902f10e9row22_col0\" class=\"data row22 col0\" >0.456903</td>\n",
       "            </tr>\n",
       "            <tr>\n",
       "                        <th id=\"T_5414f2e2_2bc3_11ea_84ea_d8d0902f10e9level0_row23\" class=\"row_heading level0 row23\" >perimeter_worst</th>\n",
       "                        <td id=\"T_5414f2e2_2bc3_11ea_84ea_d8d0902f10e9row23_col0\" class=\"data row23 col0\" >0.782914</td>\n",
       "            </tr>\n",
       "            <tr>\n",
       "                        <th id=\"T_5414f2e2_2bc3_11ea_84ea_d8d0902f10e9level0_row24\" class=\"row_heading level0 row24\" >area_worst</th>\n",
       "                        <td id=\"T_5414f2e2_2bc3_11ea_84ea_d8d0902f10e9row24_col0\" class=\"data row24 col0\" >0.733825</td>\n",
       "            </tr>\n",
       "            <tr>\n",
       "                        <th id=\"T_5414f2e2_2bc3_11ea_84ea_d8d0902f10e9level0_row25\" class=\"row_heading level0 row25\" >smoothness_worst</th>\n",
       "                        <td id=\"T_5414f2e2_2bc3_11ea_84ea_d8d0902f10e9row25_col0\" class=\"data row25 col0\" >0.421465</td>\n",
       "            </tr>\n",
       "            <tr>\n",
       "                        <th id=\"T_5414f2e2_2bc3_11ea_84ea_d8d0902f10e9level0_row26\" class=\"row_heading level0 row26\" >compactness_worst</th>\n",
       "                        <td id=\"T_5414f2e2_2bc3_11ea_84ea_d8d0902f10e9row26_col0\" class=\"data row26 col0\" >0.590998</td>\n",
       "            </tr>\n",
       "            <tr>\n",
       "                        <th id=\"T_5414f2e2_2bc3_11ea_84ea_d8d0902f10e9level0_row27\" class=\"row_heading level0 row27\" >concavity_worst</th>\n",
       "                        <td id=\"T_5414f2e2_2bc3_11ea_84ea_d8d0902f10e9row27_col0\" class=\"data row27 col0\" >0.65961</td>\n",
       "            </tr>\n",
       "            <tr>\n",
       "                        <th id=\"T_5414f2e2_2bc3_11ea_84ea_d8d0902f10e9level0_row28\" class=\"row_heading level0 row28\" >concave points_worst</th>\n",
       "                        <td id=\"T_5414f2e2_2bc3_11ea_84ea_d8d0902f10e9row28_col0\" class=\"data row28 col0\" >0.793566</td>\n",
       "            </tr>\n",
       "            <tr>\n",
       "                        <th id=\"T_5414f2e2_2bc3_11ea_84ea_d8d0902f10e9level0_row29\" class=\"row_heading level0 row29\" >symmetry_worst</th>\n",
       "                        <td id=\"T_5414f2e2_2bc3_11ea_84ea_d8d0902f10e9row29_col0\" class=\"data row29 col0\" >0.416294</td>\n",
       "            </tr>\n",
       "            <tr>\n",
       "                        <th id=\"T_5414f2e2_2bc3_11ea_84ea_d8d0902f10e9level0_row30\" class=\"row_heading level0 row30\" >fractal_dimension_worst</th>\n",
       "                        <td id=\"T_5414f2e2_2bc3_11ea_84ea_d8d0902f10e9row30_col0\" class=\"data row30 col0\" >0.323872</td>\n",
       "            </tr>\n",
       "    </tbody></table>"
      ],
      "text/plain": [
       "<pandas.io.formats.style.Styler at 0x7fa5fbb49978>"
      ]
     },
     "execution_count": 12,
     "metadata": {},
     "output_type": "execute_result"
    }
   ],
   "source": [
    "realtion = corr['diagnosis'].head(31).to_frame()\n",
    "cm = sns.light_palette(\"red\", as_cmap=True)\n",
    "realtion.style.background_gradient(cmap=cm)"
   ]
  },
  {
   "cell_type": "raw",
   "metadata": {},
   "source": [
    "# using bar we can differentiate the total number of MAlignant and benign..."
   ]
  },
  {
   "cell_type": "code",
   "execution_count": 13,
   "metadata": {},
   "outputs": [
    {
     "data": {
      "text/plain": [
       "Text(0, 0.5, 'frequency')"
      ]
     },
     "execution_count": 13,
     "metadata": {},
     "output_type": "execute_result"
    },
    {
     "data": {
      "image/png": "[encoded data removed]",
      "text/plain": [
       "<Figure size 432x288 with 1 Axes>"
      ]
     },
     "metadata": {
      "needs_background": "light"
     },
     "output_type": "display_data"
    }
   ],
   "source": [
    "label = [\"malignant\",\"benign\"]\n",
    "count_classes = pd.value_counts(cancer['diagnosis'],sort=True)\n",
    "count_classes.plot(kind='bar',rot=0)\n",
    "plt.title(\"Cancer CLASS DISTRIBUTION\")\n",
    "plt.xticks(range(2), labels=label)\n",
    "plt.xlabel(\"class\")\n",
    "plt.ylabel(\"frequency\")"
   ]
  },
  {
   "cell_type": "code",
   "execution_count": 14,
   "metadata": {},
   "outputs": [],
   "source": [
    "X  = cancer.drop('diagnosis',axis=1)\n",
    "y = cancer['diagnosis']"
   ]
  },
  {
   "cell_type": "raw",
   "metadata": {},
   "source": [
    "# now we splitting the data in two parts traing data and testing data...."
   ]
  },
  {
   "cell_type": "code",
   "execution_count": 15,
   "metadata": {},
   "outputs": [],
   "source": [
    "from sklearn.model_selection import train_test_split"
   ]
  },
  {
   "cell_type": "code",
   "execution_count": 16,
   "metadata": {},
   "outputs": [],
   "source": [
    "X_train, X_test, y_train, y_test = train_test_split(X,y,test_size=0.30,random_state=40)"
   ]
  },
  {
   "cell_type": "raw",
   "metadata": {},
   "source": [
    "# Now we performing some algorithms to training dataset and making model...."
   ]
  },
  {
   "cell_type": "code",
   "execution_count": 17,
   "metadata": {},
   "outputs": [],
   "source": [
    "from sklearn.linear_model import LogisticRegression, SGDClassifier\n",
    "from sklearn.naive_bayes import GaussianNB\n",
    "from sklearn.neighbors import KNeighborsClassifier\n",
    "from sklearn.ensemble import RandomForestClassifier"
   ]
  },
  {
   "cell_type": "code",
   "execution_count": 18,
   "metadata": {},
   "outputs": [],
   "source": [
    "L = LogisticRegression()\n",
    "SGD = SGDClassifier()\n",
    "GNB = GaussianNB()\n",
    "KN = KNeighborsClassifier()\n",
    "RF = RandomForestClassifier(n_estimators=10)"
   ]
  },
  {
   "cell_type": "code",
   "execution_count": 19,
   "metadata": {},
   "outputs": [
    {
     "name": "stderr",
     "output_type": "stream",
     "text": [
      "/home/rohit_psspl/environments/my_env/lib64/python3.6/site-packages/sklearn/linear_model/logistic.py:433: FutureWarning: Default solver will be changed to 'lbfgs' in 0.22. Specify a solver to silence this warning.\n",
      "  FutureWarning)\n",
      "/home/rohit_psspl/environments/my_env/lib64/python3.6/site-packages/sklearn/linear_model/stochastic_gradient.py:166: FutureWarning: max_iter and tol parameters have been added in SGDClassifier in 0.19. If both are left unset, they default to max_iter=5 and tol=None. If tol is not None, max_iter defaults to max_iter=1000. From 0.21, default max_iter will be 1000, and default tol will be 1e-3.\n",
      "  FutureWarning)\n"
     ]
    }
   ],
   "source": [
    "L = L.fit(X_train,y_train)\n",
    "SGD =SGD.fit(X_train,y_train)\n",
    "GNB = GNB.fit(X_train,y_train)\n",
    "KN = KN.fit(X_train,y_train)\n",
    "RF = RF.fit(X_train,y_train)"
   ]
  },
  {
   "cell_type": "code",
   "execution_count": 20,
   "metadata": {},
   "outputs": [
    {
     "data": {
      "text/plain": [
       "0.9547738693467337"
      ]
     },
     "execution_count": 20,
     "metadata": {},
     "output_type": "execute_result"
    }
   ],
   "source": [
    "L.score(X_train,y_train)"
   ]
  },
  {
   "cell_type": "code",
   "execution_count": 21,
   "metadata": {},
   "outputs": [
    {
     "name": "stdout",
     "output_type": "stream",
     "text": [
      "Logistic regression :  0.9547738693467337\n",
      "Stochastic Gradient Descent :  0.9020100502512562\n",
      "Naive Bayes :  0.9396984924623115\n",
      "KN :  0.9447236180904522\n",
      "RF :  0.9949748743718593\n"
     ]
    }
   ],
   "source": [
    "print(\"Logistic regression : \",L.score(X_train,y_train))\n",
    "print(\"Stochastic Gradient Descent : \",SGD.score(X_train,y_train))\n",
    "print(\"Naive Bayes : \", GNB.score(X_train,y_train))\n",
    "print(\"KN : \",KN.score(X_train,y_train))\n",
    "print(\"RF : \",RF.score(X_train,y_train))"
   ]
  },
  {
   "cell_type": "raw",
   "metadata": {},
   "source": [
    "# After making model now we testing our test data score and prediction our testing data..."
   ]
  },
  {
   "cell_type": "code",
   "execution_count": 22,
   "metadata": {},
   "outputs": [
    {
     "data": {
      "text/plain": [
       "0.9590643274853801"
      ]
     },
     "execution_count": 22,
     "metadata": {},
     "output_type": "execute_result"
    }
   ],
   "source": [
    "L.score(X_test,y_test)"
   ]
  },
  {
   "cell_type": "code",
   "execution_count": 23,
   "metadata": {},
   "outputs": [],
   "source": [
    "y_pred = L.predict(X_test)"
   ]
  },
  {
   "cell_type": "code",
   "execution_count": 24,
   "metadata": {},
   "outputs": [],
   "source": [
    "from sklearn.metrics import accuracy_score,confusion_matrix,precision_score,recall_score,f1_score"
   ]
  },
  {
   "cell_type": "code",
   "execution_count": 25,
   "metadata": {},
   "outputs": [
    {
     "data": {
      "text/plain": [
       "0.9590643274853801"
      ]
     },
     "execution_count": 25,
     "metadata": {},
     "output_type": "execute_result"
    }
   ],
   "source": [
    "accuracy_score(y_test,y_pred)"
   ]
  },
  {
   "cell_type": "code",
   "execution_count": 26,
   "metadata": {},
   "outputs": [
    {
     "data": {
      "text/plain": [
       "array([[112,   3],\n",
       "       [  4,  52]])"
      ]
     },
     "execution_count": 26,
     "metadata": {},
     "output_type": "execute_result"
    }
   ],
   "source": [
    "confusion_matrix(y_test,y_pred)"
   ]
  },
  {
   "cell_type": "code",
   "execution_count": 27,
   "metadata": {},
   "outputs": [
    {
     "data": {
      "text/plain": [
       "0.9454545454545454"
      ]
     },
     "execution_count": 27,
     "metadata": {},
     "output_type": "execute_result"
    }
   ],
   "source": [
    "precision_score(y_test,y_pred)"
   ]
  },
  {
   "cell_type": "code",
   "execution_count": 28,
   "metadata": {},
   "outputs": [
    {
     "data": {
      "text/plain": [
       "0.9285714285714286"
      ]
     },
     "execution_count": 28,
     "metadata": {},
     "output_type": "execute_result"
    }
   ],
   "source": [
    "recall_score(y_test,y_pred)"
   ]
  },
  {
   "cell_type": "code",
   "execution_count": 29,
   "metadata": {},
   "outputs": [
    {
     "data": {
      "text/plain": [
       "0.9369369369369368"
      ]
     },
     "execution_count": 29,
     "metadata": {},
     "output_type": "execute_result"
    }
   ],
   "source": [
    "f1_score(y_test,y_pred)"
   ]
  },
  {
   "cell_type": "code",
   "execution_count": 30,
   "metadata": {},
   "outputs": [],
   "source": [
    "df = pd.DataFrame({'Predicted':y_pred,\"Actual\":y_test})"
   ]
  },
  {
   "cell_type": "code",
   "execution_count": 31,
   "metadata": {},
   "outputs": [
    {
     "data": {
      "text/html": [
       "<div>\n",
       "<style scoped>\n",
       "    .dataframe tbody tr th:only-of-type {\n",
       "        vertical-align: middle;\n",
       "    }\n",
       "\n",
       "    .dataframe tbody tr th {\n",
       "        vertical-align: top;\n",
       "    }\n",
       "\n",
       "    .dataframe thead th {\n",
       "        text-align: right;\n",
       "    }\n",
       "</style>\n",
       "<table border=\"1\" class=\"dataframe\">\n",
       "  <thead>\n",
       "    <tr style=\"text-align: right;\">\n",
       "      <th></th>\n",
       "      <th>Predicted</th>\n",
       "      <th>Actual</th>\n",
       "    </tr>\n",
       "  </thead>\n",
       "  <tbody>\n",
       "    <tr>\n",
       "      <th>295</th>\n",
       "      <td>0</td>\n",
       "      <td>0</td>\n",
       "    </tr>\n",
       "    <tr>\n",
       "      <th>16</th>\n",
       "      <td>1</td>\n",
       "      <td>1</td>\n",
       "    </tr>\n",
       "    <tr>\n",
       "      <th>431</th>\n",
       "      <td>0</td>\n",
       "      <td>0</td>\n",
       "    </tr>\n",
       "    <tr>\n",
       "      <th>453</th>\n",
       "      <td>0</td>\n",
       "      <td>0</td>\n",
       "    </tr>\n",
       "    <tr>\n",
       "      <th>15</th>\n",
       "      <td>1</td>\n",
       "      <td>1</td>\n",
       "    </tr>\n",
       "    <tr>\n",
       "      <th>...</th>\n",
       "      <td>...</td>\n",
       "      <td>...</td>\n",
       "    </tr>\n",
       "    <tr>\n",
       "      <th>333</th>\n",
       "      <td>0</td>\n",
       "      <td>0</td>\n",
       "    </tr>\n",
       "    <tr>\n",
       "      <th>467</th>\n",
       "      <td>0</td>\n",
       "      <td>0</td>\n",
       "    </tr>\n",
       "    <tr>\n",
       "      <th>444</th>\n",
       "      <td>1</td>\n",
       "      <td>1</td>\n",
       "    </tr>\n",
       "    <tr>\n",
       "      <th>414</th>\n",
       "      <td>1</td>\n",
       "      <td>1</td>\n",
       "    </tr>\n",
       "    <tr>\n",
       "      <th>82</th>\n",
       "      <td>1</td>\n",
       "      <td>1</td>\n",
       "    </tr>\n",
       "  </tbody>\n",
       "</table>\n",
       "<p>171 rows × 2 columns</p>\n",
       "</div>"
      ],
      "text/plain": [
       "     Predicted  Actual\n",
       "295          0       0\n",
       "16           1       1\n",
       "431          0       0\n",
       "453          0       0\n",
       "15           1       1\n",
       "..         ...     ...\n",
       "333          0       0\n",
       "467          0       0\n",
       "444          1       1\n",
       "414          1       1\n",
       "82           1       1\n",
       "\n",
       "[171 rows x 2 columns]"
      ]
     },
     "execution_count": 31,
     "metadata": {},
     "output_type": "execute_result"
    }
   ],
   "source": [
    "df"
   ]
  },
  {
   "cell_type": "code",
   "execution_count": 32,
   "metadata": {},
   "outputs": [],
   "source": [
    "corr = df.corr()"
   ]
  },
  {
   "cell_type": "code",
   "execution_count": 33,
   "metadata": {},
   "outputs": [
    {
     "data": {
      "text/plain": [
       "<matplotlib.axes._subplots.AxesSubplot at 0x7fa5cea27668>"
      ]
     },
     "execution_count": 33,
     "metadata": {},
     "output_type": "execute_result"
    },
    {
     "data": {
      "image/png": "[encoded data removed]",
      "text/plain": [
       "<Figure size 432x288 with 2 Axes>"
      ]
     },
     "metadata": {
      "needs_background": "light"
     },
     "output_type": "display_data"
    }
   ],
   "source": [
    "sns.heatmap(corr)"
   ]
  },
  {
   "cell_type": "code",
   "execution_count": null,
   "metadata": {},
   "outputs": [],
   "source": []
  }
 ],
 "metadata": {
  "kernelspec": {
   "display_name": "Python 3",
   "language": "python",
   "name": "python3"
  },
  "language_info": {
   "codemirror_mode": {
    "name": "ipython",
    "version": 3
   },
   "file_extension": ".py",
   "mimetype": "text/x-python",
   "name": "python",
   "nbconvert_exporter": "python",
   "pygments_lexer": "ipython3",
   "version": "3.6.8"
  }
 },
 "nbformat": 4,
 "nbformat_minor": 4
}
